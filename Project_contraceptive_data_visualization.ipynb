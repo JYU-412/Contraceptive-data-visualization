{
 "cells": [
  {
   "cell_type": "markdown",
   "metadata": {},
   "source": [
    "# Data visualization of world contraceptive use"
   ]
  },
  {
   "cell_type": "code",
   "execution_count": null,
   "metadata": {},
   "outputs": [],
   "source": [
    "import geopandas \n",
    "import pandas as pd\n",
    "import seaborn as sns\n",
    "import numpy as np\n",
    "import fiona\n",
    "import pycountry \n",
    "from fuzzywuzzy import fuzz\n",
    "from fuzzywuzzy import process\n",
    "import matplotlib.pyplot as plt\n",
    "from mpl_toolkits.axes_grid1 import make_axes_locatable"
   ]
  },
  {
   "cell_type": "code",
   "execution_count": null,
   "metadata": {},
   "outputs": [],
   "source": [
    "world = geopandas.read_file(geopandas.datasets.get_path('naturalearth_lowres')) # The data is used for map canvas"
   ]
  },
  {
   "cell_type": "code",
   "execution_count": null,
   "metadata": {},
   "outputs": [],
   "source": [
    "# loading contraceptive data\n",
    "with pd.ExcelFile('Contraceptive_2019.xls') as xls:\n",
    "    country2019 = pd.read_excel(xls, 'Sheet1', na_values= [\".\"])\n",
    "    area2019 = pd.read_excel(xls, 'Sheet2',na_values= [\".\"])\n",
    "    country_trend= pd.read_excel(xls, \"Sheet3\",na_values= [\".\"])"
   ]
  },
  {
   "cell_type": "markdown",
   "metadata": {},
   "source": [
    "## Merge data"
   ]
  },
  {
   "cell_type": "code",
   "execution_count": null,
   "metadata": {},
   "outputs": [],
   "source": [
    "# The contraceptive data do not contain a col of unique identifiers. Use fuzzy merge to join two datasets.\n",
    "def fuzzy_merge(data1, data2, key1, key2, threshold=95, limit=1):\n",
    "    \n",
    "    s = data2[key2].tolist()\n",
    "\n",
    "    m = data1[key1].apply(lambda x: process.extract(x, s, limit=limit))    \n",
    "    data1['matches'] = m\n",
    "\n",
    "    m2 = data1['matches'].apply(lambda x: ', '.join([i[0] for i in x if i[1] >= threshold]))\n",
    "    data1['matches'] = m2\n",
    "\n",
    "    return data1"
   ]
  },
  {
   "cell_type": "code",
   "execution_count": null,
   "metadata": {},
   "outputs": [],
   "source": [
    "match=fuzzy_merge(world, country2019, 'name', 'area')"
   ]
  },
  {
   "cell_type": "code",
   "execution_count": null,
   "metadata": {},
   "outputs": [],
   "source": [
    "match.loc[match['matches'] == \"\"] ## display countries that have no matches from contraceptive data"
   ]
  },
  {
   "cell_type": "code",
   "execution_count": null,
   "metadata": {},
   "outputs": [],
   "source": [
    "World_con = pd.merge(match, country2019, \n",
    "                        left_on='matches', \n",
    "                        right_on='area',\n",
    "                        how = 'left'\n",
    "                       )"
   ]
  },
  {
   "cell_type": "code",
   "execution_count": null,
   "metadata": {},
   "outputs": [],
   "source": [
    "# Clean the data \n",
    "World_con=World_con[World_con.columns.drop('matches')];\n",
    "World_con=World_con[World_con.columns.drop('area')]\n",
    "World_con=World_con[World_con.continent!='Antarctica']"
   ]
  },
  {
   "cell_type": "code",
   "execution_count": null,
   "metadata": {},
   "outputs": [],
   "source": [
    "World_con.describe()"
   ]
  },
  {
   "cell_type": "markdown",
   "metadata": {},
   "source": [
    "## Contraceptive prevalence in the world\n",
    "### General trend \n",
    "#### A world map to show the estimated prevalence of contraceptive use among women of reproductive age"
   ]
  },
  {
   "cell_type": "code",
   "execution_count": null,
   "metadata": {},
   "outputs": [],
   "source": [
    "fig, ax = plt.subplots(1, figsize=(16, 17))\n",
    "divider = make_axes_locatable(ax) # align the legend to the plot\n",
    "cax = divider.append_axes(\"right\", size=\"5%\", pad=0.1)\n",
    "World_con.plot(column='Any method', linewidth=0.3, ax=ax, edgecolor='0.7',alpha=0.95, cax=cax, cmap='GnBu',legend= True)\n",
    "ax.axis('off')# remove the axis\n",
    "# add plot title and annotation\n",
    "ax.set_title('Estimated prevalence of contraceptive use among women of reproductive age (15-49 years), 2019(%)', fontdict={'fontsize': '16', 'fontweight' : '5','horizontalalignment': 'center'})\n",
    "ax.annotate('Source: United  Nations, Population  Division  (2019).',xy=(0.1, 0.28),  xycoords='figure fraction', horizontalalignment='left', verticalalignment='top', fontsize=10, color='#555555')\n"
   ]
  },
  {
   "cell_type": "markdown",
   "metadata": {},
   "source": [
    "#### Contraceptive use prevalence among women in geographic regions"
   ]
  },
  {
   "cell_type": "code",
   "execution_count": null,
   "metadata": {},
   "outputs": [],
   "source": [
    "g_contra=area2019.iloc[1:9,:2]\n",
    "g_contra=g_contra.sort_values(\"Any method\", ascending=False)"
   ]
  },
  {
   "cell_type": "code",
   "execution_count": null,
   "metadata": {},
   "outputs": [],
   "source": [
    "g=sns.catplot(y=\"area\", x=\"Any method\",palette=(sns.cubehelix_palette(8, start=.5, rot=-.5)), height=4,aspect=2, kind=\"bar\",  data=g_contra)\n",
    "#plt.suptitle('Contraceptive use in geographic regions',size=16)\n",
    "#plt.show()\n",
    "(g.set_ylabels(\"\")\n",
    "  .set_xlabels(\"\"))\n",
    "g.fig.subplots_adjust(top=0.9)\n",
    "g.fig.suptitle('Contraceptive use prevalence in geographic regions: all method (%)', fontsize=18)"
   ]
  },
  {
   "cell_type": "markdown",
   "metadata": {},
   "source": [
    "#### Contraceptive use prevalence among women by income levels"
   ]
  },
  {
   "cell_type": "code",
   "execution_count": null,
   "metadata": {},
   "outputs": [],
   "source": [
    "inc_contra=area2019.iloc[16:21,[0,1,2,3,4,7,8]]"
   ]
  },
  {
   "cell_type": "code",
   "execution_count": null,
   "metadata": {},
   "outputs": [],
   "source": [
    "inc_contra"
   ]
  },
  {
   "cell_type": "code",
   "execution_count": null,
   "metadata": {
    "scrolled": true
   },
   "outputs": [],
   "source": [
    "sns.set(style=\"whitegrid\",rc={'font.size': 15, 'axes.labelsize': 15, 'legend.fontsize': 15, \n",
    "   'axes.titlesize': 15, 'xtick.labelsize': 13, 'ytick.labelsize': 15})\n",
    "inc= sns.PairGrid(inc_contra,\n",
    "                 x_vars=inc_contra.columns[1:7], y_vars=[\"area\"],\n",
    "                 height=5, aspect=.5)\n",
    "inc.map(sns.stripplot, size=14, orient=\"h\",\n",
    "      palette=\"ch:s=1,r=-.1,h=1_r\", linewidth=1, edgecolor=\"w\")\n",
    "inc.set(ylabel=\"\")\n",
    "for ax in inc.axes.flat:\n",
    "    ax.xaxis.grid(False)\n",
    "    ax.yaxis.grid(True)\n",
    "inc.fig.subplots_adjust(top=0.9)\n",
    "inc.fig.suptitle('Contraceptive use prevalence among women by income levels(%)', fontsize=18)"
   ]
  },
  {
   "cell_type": "markdown",
   "metadata": {},
   "source": [
    "### Country specific trend"
   ]
  },
  {
   "cell_type": "code",
   "execution_count": null,
   "metadata": {},
   "outputs": [],
   "source": [
    "## Select 12 countries to see specific trend\n",
    "countryname=[]\n",
    "for i in ['USA', 'CAN', 'GBR','FRA','DEU','MEX' ,'JPN','KOR','CHN','IND','AUS','TUR']: \n",
    "    name=pycountry.countries.get(alpha_3=i).numeric\n",
    "    countryname.append(int(name))\n",
    "subcountry=country_trend.loc[country_trend['ISO code'].isin(countryname),['ISO code','area', 'Survey\\nend year','Any method','Female\\nsterilization', 'Pill', 'Male condom'] ]"
   ]
  },
  {
   "cell_type": "code",
   "execution_count": null,
   "metadata": {},
   "outputs": [],
   "source": [
    "subcountry = subcountry.rename(columns = {'ISO code':'iso','Survey\\nend year':'year','Any method':'Any method' ,'Female\\nsterilization':'Female sterilization', 'Pill':'Pill', 'Male condom': 'Male condom'})\n"
   ]
  },
  {
   "cell_type": "code",
   "execution_count": null,
   "metadata": {},
   "outputs": [],
   "source": [
    "pd.pivot_table(subcountry, values=['Any method','Female sterilization','Pill','Male condom'], index=['area'],aggfunc=np.mean)"
   ]
  },
  {
   "cell_type": "code",
   "execution_count": null,
   "metadata": {},
   "outputs": [],
   "source": [
    "## Only examine the trend since 1980\n",
    "subcountry = subcountry.query('year>1979')\n",
    "long_subc = pd.melt(subcountry, id_vars=['area','iso', 'year'],value_vars=['Any method','Female sterilization','Pill','Male condom'])\n",
    "                          "
   ]
  },
  {
   "cell_type": "code",
   "execution_count": null,
   "metadata": {
    "scrolled": true
   },
   "outputs": [],
   "source": [
    "sns.set(style=\"ticks\",rc={\"lines.linewidth\": 2,'xtick.labelsize': 12, 'ytick.labelsize': 12,'font.size': 15, 'axes.labelsize': 12, 'legend.fontsize': 12})\n",
    "\n",
    "g=sns.relplot(x=\"year\", y=\"value\",\n",
    "            hue=\"variable\", \n",
    "            kind=\"line\",col=\"area\",style=\"variable\", col_wrap=4, height=3,data=long_subc)\n",
    "(g.set_ylabels(\"prevalence(%)\")\n",
    "  .set_xlabels(\"\"))\n",
    "g._legend.texts[0].set_text(\"\") ## remove legend title \n",
    "g.fig.subplots_adjust(top=0.9)\n",
    "g.fig.suptitle('Contraceptive use prevalence trend of selected countries', fontsize=18)\n",
    "# change column titles for each plot.\n",
    "name=list(set(subcountry['area']))\n",
    "titles=sorted(name)\n",
    "for ax, title in zip(g.axes.flat, titles):\n",
    "    ax.set_title(title)\n"
   ]
  }
 ],
 "metadata": {
  "kernelspec": {
   "display_name": "Python 3",
   "language": "python",
   "name": "python3"
  },
  "language_info": {
   "codemirror_mode": {
    "name": "ipython",
    "version": 3
   },
   "file_extension": ".py",
   "mimetype": "text/x-python",
   "name": "python",
   "nbconvert_exporter": "python",
   "pygments_lexer": "ipython3",
   "version": "3.7.2"
  }
 },
 "nbformat": 4,
 "nbformat_minor": 2
}
